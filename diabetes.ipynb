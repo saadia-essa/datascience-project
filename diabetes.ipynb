{
 "cells": [
  {
   "cell_type": "code",
   "execution_count": 8,
   "id": "7b03ed27-f7a0-4f59-8cb2-ae6b23d5191f",
   "metadata": {
    "scrolled": true
   },
   "outputs": [
    {
     "name": "stdout",
     "output_type": "stream",
     "text": [
      "This is easy\n"
     ]
    }
   ],
   "source": [
    "print(\"This is easy\")"
   ]
  },
  {
   "cell_type": "code",
   "execution_count": 9,
   "id": "e87093bb-1ffc-4145-a4b9-2abe7091f34a",
   "metadata": {},
   "outputs": [],
   "source": [
    "[];"
   ]
  },
  {
   "cell_type": "code",
   "execution_count": null,
   "id": "99160961-cdf0-4013-843c-42ee9c8c8e50",
   "metadata": {},
   "outputs": [],
   "source": [
    "import pandas as pd#analysis \n",
    "import numpy as np\n",
    "import matplotlib.pyplot as plt\n",
    "import seaborn as sns #graph\n",
    "from sklearn.preprocessing import LabelEncoder, StandardScaler # StandardScaler is used to standardize dataset resources,\n",
    "#LabelEncoder - used to encode categorical labels into numeric values\n",
    "from sklearn.model_selection import train_test_split # is used to split the dataset into training and test sets\n",
    "\n",
    "import tensorflow as tf #is a popular framework for building and training machine learning models\n",
    "from tensorflow.keras import Sequential # is a sequential model where the layers are linearly stacked\n",
    "from tensorflow.keras.layers import Dense #defines a dense (fully connected) layer of the neural network\n",
    "from tensorflow.keras.layers import Dropout # is used to add dropout layers to avoid overfitting\n",
    "\n",
    "\n",
    "\n",
    "import warnings\n",
    "warnings.filterwarnings('always')\n",
    "warnings.filterwarnings('ignore')\n",
    "\n",
    "data = pd.read_csv('diabetes.csv')#loading dataset\n",
    "\n"
   ]
  },
  {
   "cell_type": "code",
   "execution_count": null,
   "id": "b73876ba-5dfd-4bf5-90f8-2a17e4a04739",
   "metadata": {},
   "outputs": [],
   "source": [
    "data['Outcome'].value_counts()\n",
    "data.columns"
   ]
  },
  {
   "cell_type": "code",
   "execution_count": null,
   "id": "c38eec68-6f98-4c6e-8775-a12fa0faaa79",
   "metadata": {},
   "outputs": [],
   "source": [
    "#explanatory Data Analysis (EAD)\n",
    "data.head()"
   ]
  },
  {
   "cell_type": "code",
   "execution_count": null,
   "id": "d4471744-cac5-48dc-85db-544b69a0130e",
   "metadata": {},
   "outputs": [],
   "source": [
    "data.tail()"
   ]
  },
  {
   "cell_type": "code",
   "execution_count": null,
   "id": "6948151c-5f79-4bd4-bf41-69855c748355",
   "metadata": {},
   "outputs": [],
   "source": [
    "data.info()"
   ]
  },
  {
   "cell_type": "code",
   "execution_count": null,
   "id": "e790bea5-9744-4031-9681-94ef115a8cb3",
   "metadata": {},
   "outputs": [],
   "source": [
    "#data statistics\n",
    "print(data.describe())"
   ]
  },
  {
   "cell_type": "code",
   "execution_count": null,
   "id": "fa3e1cd5-cb9c-4f01-88c6-8cde77d622ce",
   "metadata": {},
   "outputs": [],
   "source": [
    "data.shape[0]"
   ]
  },
  {
   "cell_type": "code",
   "execution_count": null,
   "id": "6818097b-c05f-4203-86f3-89ee4ab8657e",
   "metadata": {},
   "outputs": [],
   "source": [
    "print(data.head(20))"
   ]
  },
  {
   "cell_type": "code",
   "execution_count": null,
   "id": "165734b1-ab22-4dee-8b94-3146a83f35d9",
   "metadata": {},
   "outputs": [],
   "source": [
    "data.shape"
   ]
  },
  {
   "cell_type": "code",
   "execution_count": null,
   "id": "a4559428-992e-495e-ba32-10572e39d580",
   "metadata": {},
   "outputs": [],
   "source": [
    "plt.figure(figsize=(5,5))\n",
    "plt.pie(data['Outcome'].value_counts(), labels=['No Diabetes', 'Diabetes'], autopct='%1.1f%%', shadow=True, startangle=180)\n",
    "plt.title('diabetes Outcome')\n",
    "plt.show()"
   ]
  },
  {
   "cell_type": "code",
   "execution_count": null,
   "id": "afdfa3c6-0be6-464d-b35a-3544e1047c45",
   "metadata": {},
   "outputs": [],
   "source": [
    "data['Outcome'].value_counts()"
   ]
  },
  {
   "cell_type": "code",
   "execution_count": null,
   "id": "97f60127-20a7-4db7-a213-535801d5e84c",
   "metadata": {},
   "outputs": [],
   "source": [
    "data.columns"
   ]
  },
  {
   "cell_type": "code",
   "execution_count": null,
   "id": "8546652f-07a3-49ba-8bb5-faa38c70edfe",
   "metadata": {},
   "outputs": [],
   "source": [
    "data.info()"
   ]
  },
  {
   "cell_type": "code",
   "execution_count": null,
   "id": "9fee74c7-8a06-435c-9d8f-705764958e0d",
   "metadata": {},
   "outputs": [],
   "source": []
  },
  {
   "cell_type": "code",
   "execution_count": null,
   "id": "eea4188b-3d5c-48c0-9429-4f229378b09a",
   "metadata": {},
   "outputs": [],
   "source": [
    "data.describe()"
   ]
  },
  {
   "cell_type": "code",
   "execution_count": null,
   "id": "dd4ef3fd-e7f8-42de-b7d2-1f82c8ecf77d",
   "metadata": {},
   "outputs": [],
   "source": [
    "data.describe().T"
   ]
  },
  {
   "cell_type": "code",
   "execution_count": null,
   "id": "87016eee-b121-4f57-bc6e-a3147233b607",
   "metadata": {},
   "outputs": [],
   "source": [
    "data.isnull().sum()"
   ]
  },
  {
   "cell_type": "code",
   "execution_count": null,
   "id": "c43ad2df-0f8d-4405-9be8-3a721b4e8447",
   "metadata": {},
   "outputs": [],
   "source": [
    "p=data.hist(figsize=(10,10))"
   ]
  },
  {
   "cell_type": "code",
   "execution_count": null,
   "id": "457a9d97-6c14-45c4-8b4c-b3f7c00e6b51",
   "metadata": {},
   "outputs": [],
   "source": [
    "data[\"Outcome\"].value_counts()*100/len(data)"
   ]
  },
  {
   "cell_type": "code",
   "execution_count": null,
   "id": "4c0f2711-0316-4d3f-b6fa-8e2639d76920",
   "metadata": {},
   "outputs": [],
   "source": [
    "data.Outcome.value_counts()\n",
    "\n",
    "print(\"Max Age: \" + str(data[\"Age\"].max() )  + \" \" +   \"Min Age: \"+str(data[\"Age\"].min()))\n"
   ]
  },
  {
   "cell_type": "code",
   "execution_count": null,
   "id": "a1d193bf-d15a-45e8-8d42-2a10ce7eb1e8",
   "metadata": {},
   "outputs": [],
   "source": [
    "data.groupby(\"Outcome\").agg({\"BMI\":\"mean\"})"
   ]
  },
  {
   "cell_type": "code",
   "execution_count": null,
   "id": "7b1448c3-7a8e-482c-a353-2a23b5039e3a",
   "metadata": {},
   "outputs": [],
   "source": [
    "fig,ax=plt.subplots(4,2, figsize=(16,16))\n",
    "sns.distplot(data.Age, bins = 20, ax=ax[0,0])\n",
    "sns.distplot(data.Pregnancies, bins = 20, ax=ax[0,1])\n",
    "sns.distplot(data.Glucose, bins = 20, ax=ax[1,0])\n",
    "sns.distplot(data.BloodPressure, bins = 20, ax=ax[1,1])\n",
    "sns.distplot(data.SkinThickness, bins = 20, ax=ax[2,0])\n",
    "sns.distplot(data.Insulin, bins = 20, ax=ax[2,1])\n",
    "sns.distplot(data.DiabetesPedigreeFunction, bins = 20, ax=ax[3,0])\n",
    "sns.distplot(data.BMI, bins = 20, ax=ax[3,1])"
   ]
  },
  {
   "cell_type": "code",
   "execution_count": 12,
   "id": "ef7657ad-f295-4608-b1ca-d89051b5a117",
   "metadata": {},
   "outputs": [
    {
     "name": "stdout",
     "output_type": "stream",
     "text": [
      "     Pregnancies  Glucose  BloodPressure  SkinThickness  Insulin   BMI  \\\n",
      "0              6      148             72             35        0  33.6   \n",
      "1              1       85             66             29        0  26.6   \n",
      "2              8      183             64              0        0  23.3   \n",
      "3              1       89             66             23       94  28.1   \n",
      "4              0      137             40             35      168  43.1   \n",
      "..           ...      ...            ...            ...      ...   ...   \n",
      "763           10      101             76             48      180  32.9   \n",
      "764            2      122             70             27        0  36.8   \n",
      "765            5      121             72             23      112  26.2   \n",
      "766            1      126             60              0        0  30.1   \n",
      "767            1       93             70             31        0  30.4   \n",
      "\n",
      "     DiabetesPedigreeFunction  Age  \n",
      "0                       0.627   50  \n",
      "1                       0.351   31  \n",
      "2                       0.672   32  \n",
      "3                       0.167   21  \n",
      "4                       2.288   33  \n",
      "..                        ...  ...  \n",
      "763                     0.171   63  \n",
      "764                     0.340   27  \n",
      "765                     0.245   30  \n",
      "766                     0.349   47  \n",
      "767                     0.315   23  \n",
      "\n",
      "[768 rows x 8 columns]\n"
     ]
    }
   ],
   "source": [
    "x=data.drop('Outcome', axis=1)\n",
    "print (x)"
   ]
  },
  {
   "cell_type": "code",
   "execution_count": 13,
   "id": "c52b1850-3659-4a67-981e-16131e238c0e",
   "metadata": {},
   "outputs": [],
   "source": [
    "y=data['Outcome']"
   ]
  },
  {
   "cell_type": "code",
   "execution_count": 14,
   "id": "917a8b8c-8de8-432d-b127-35378b363160",
   "metadata": {},
   "outputs": [],
   "source": [
    "xtrain,xtest,ytrain,ytest =train_test_split(x,y,test_size=0.2)\n",
    "#data has been splitted 20% for testing and 80%for training"
   ]
  },
  {
   "cell_type": "code",
   "execution_count": 17,
   "id": "53acdedc-442b-4f4d-9b1c-f57d8a571886",
   "metadata": {},
   "outputs": [],
   "source": [
    "scaler=StandardScaler()\n",
    "xtrain=scaler.fit_transform(xtrain)\n",
    "xtest=scaler.transform(xtest)"
   ]
  },
  {
   "cell_type": "code",
   "execution_count": 27,
   "id": "f837e770-955c-48ff-91d8-2cfa4b9f9b51",
   "metadata": {},
   "outputs": [],
   "source": [
    "#creating training model\n",
    "\n",
    "\n",
    "model = Sequential([\n",
    "    Dense(32,activation = 'relu',input_shape=(xtrain.shape[1],)),\n",
    " Dropout(0.1),\n",
    "    Dense(32,activation = 'relu'),\n",
    "    Dropout(0.5),\n",
    "    Dense(1,activation= 'sigmoid')\n",
    "])\n",
    "    "
   ]
  },
  {
   "cell_type": "code",
   "execution_count": 28,
   "id": "e7ad181e-b8fa-4582-a388-3779f4f1a47c",
   "metadata": {},
   "outputs": [
    {
     "name": "stdout",
     "output_type": "stream",
     "text": [
      "Model: \"sequential\"\n",
      "_________________________________________________________________\n",
      " Layer (type)                Output Shape              Param #   \n",
      "=================================================================\n",
      " dense_2 (Dense)             (None, 32)                288       \n",
      "                                                                 \n",
      " dropout_1 (Dropout)         (None, 32)                0         \n",
      "                                                                 \n",
      " dense_3 (Dense)             (None, 32)                1056      \n",
      "                                                                 \n",
      " dropout_2 (Dropout)         (None, 32)                0         \n",
      "                                                                 \n",
      " dense_4 (Dense)             (None, 1)                 33        \n",
      "                                                                 \n",
      "=================================================================\n",
      "Total params: 1,377\n",
      "Trainable params: 1,377\n",
      "Non-trainable params: 0\n",
      "_________________________________________________________________\n"
     ]
    }
   ],
   "source": [
    "#Model Compilation and summary\n",
    "model.compile(loss = 'binary_crossentropy', optimizer = 'adam', metrics = ['accuracy'])\n",
    "model.summary()"
   ]
  },
  {
   "cell_type": "code",
   "execution_count": 30,
   "id": "6d3aaaae-3baa-44a8-9ee3-32dea4d738f3",
   "metadata": {},
   "outputs": [
    {
     "name": "stdout",
     "output_type": "stream",
     "text": [
      "Epoch 1/20\n",
      "39/39 [==============================] - 1s 7ms/step - loss: 0.6484 - accuracy: 0.6319 - val_loss: 2.5782 - val_accuracy: 0.4935\n",
      "Epoch 2/20\n",
      "39/39 [==============================] - 0s 3ms/step - loss: 0.5991 - accuracy: 0.6857 - val_loss: 10.0252 - val_accuracy: 0.3312\n",
      "Epoch 3/20\n",
      "39/39 [==============================] - 0s 3ms/step - loss: 0.5617 - accuracy: 0.7215 - val_loss: 18.4117 - val_accuracy: 0.3312\n",
      "Epoch 4/20\n",
      "39/39 [==============================] - 0s 3ms/step - loss: 0.5123 - accuracy: 0.7590 - val_loss: 24.8741 - val_accuracy: 0.3312\n",
      "Epoch 5/20\n",
      "39/39 [==============================] - 0s 3ms/step - loss: 0.5202 - accuracy: 0.7524 - val_loss: 32.9067 - val_accuracy: 0.3312\n",
      "Epoch 6/20\n",
      "39/39 [==============================] - 0s 3ms/step - loss: 0.4968 - accuracy: 0.7573 - val_loss: 36.2850 - val_accuracy: 0.3312\n",
      "Epoch 7/20\n",
      "39/39 [==============================] - 0s 3ms/step - loss: 0.5236 - accuracy: 0.7427 - val_loss: 37.3182 - val_accuracy: 0.3312\n",
      "Epoch 8/20\n",
      "39/39 [==============================] - 0s 3ms/step - loss: 0.4854 - accuracy: 0.7915 - val_loss: 39.8828 - val_accuracy: 0.3312\n",
      "Epoch 9/20\n",
      "39/39 [==============================] - 0s 4ms/step - loss: 0.4730 - accuracy: 0.7590 - val_loss: 43.0619 - val_accuracy: 0.3312\n",
      "Epoch 10/20\n",
      "39/39 [==============================] - 0s 4ms/step - loss: 0.4818 - accuracy: 0.7915 - val_loss: 44.8224 - val_accuracy: 0.3312\n",
      "Epoch 11/20\n",
      "39/39 [==============================] - 0s 3ms/step - loss: 0.5118 - accuracy: 0.7459 - val_loss: 42.5462 - val_accuracy: 0.3312\n",
      "Epoch 12/20\n",
      "39/39 [==============================] - 0s 3ms/step - loss: 0.4791 - accuracy: 0.7720 - val_loss: 47.7343 - val_accuracy: 0.3312\n",
      "Epoch 13/20\n",
      "39/39 [==============================] - 0s 3ms/step - loss: 0.4758 - accuracy: 0.7785 - val_loss: 44.9301 - val_accuracy: 0.3312\n",
      "Epoch 14/20\n",
      "39/39 [==============================] - 0s 3ms/step - loss: 0.4686 - accuracy: 0.7752 - val_loss: 46.3454 - val_accuracy: 0.3312\n",
      "Epoch 15/20\n",
      "39/39 [==============================] - 0s 4ms/step - loss: 0.4787 - accuracy: 0.7785 - val_loss: 48.0380 - val_accuracy: 0.3312\n",
      "Epoch 16/20\n",
      "39/39 [==============================] - 0s 4ms/step - loss: 0.4720 - accuracy: 0.7720 - val_loss: 50.8852 - val_accuracy: 0.3312\n",
      "Epoch 17/20\n",
      "39/39 [==============================] - 0s 5ms/step - loss: 0.4617 - accuracy: 0.7720 - val_loss: 50.7672 - val_accuracy: 0.3312\n",
      "Epoch 18/20\n",
      "39/39 [==============================] - 0s 3ms/step - loss: 0.4633 - accuracy: 0.7818 - val_loss: 55.6108 - val_accuracy: 0.3312\n",
      "Epoch 19/20\n",
      "39/39 [==============================] - 0s 3ms/step - loss: 0.4595 - accuracy: 0.7980 - val_loss: 50.9502 - val_accuracy: 0.3312\n",
      "Epoch 20/20\n",
      "39/39 [==============================] - 0s 7ms/step - loss: 0.4441 - accuracy: 0.7834 - val_loss: 58.6228 - val_accuracy: 0.3312\n"
     ]
    },
    {
     "data": {
      "text/plain": [
       "<keras.callbacks.History at 0x141a93010>"
      ]
     },
     "execution_count": 30,
     "metadata": {},
     "output_type": "execute_result"
    }
   ],
   "source": [
    "#Training Model\n",
    "model.fit(xtrain, ytrain, epochs = 20, batch_size = 16, validation_data = (xtest, ytest))"
   ]
  },
  {
   "cell_type": "code",
   "execution_count": 33,
   "id": "bf641607-223c-4218-9252-27b5f3e6da8d",
   "metadata": {},
   "outputs": [
    {
     "name": "stdout",
     "output_type": "stream",
     "text": [
      "5/5 [==============================] - 0s 3ms/step - loss: 58.6228 - accuracy: 0.3312\n",
      "Test loss: 58.6228\n",
      "Test accuracy: 0.3312\n"
     ]
    }
   ],
   "source": [
    "loss, accuracy = model.evaluate(xtest, ytest)\n",
    "print(f'Test loss: {loss:.4f}')\n",
    "print(f'Test accuracy: {accuracy:.4f}')"
   ]
  },
  {
   "cell_type": "code",
   "execution_count": null,
   "id": "5562bb91-482f-471d-892a-5c929005a8fd",
   "metadata": {},
   "outputs": [],
   "source": []
  },
  {
   "cell_type": "code",
   "execution_count": null,
   "id": "e40944a8-3f98-48fb-af04-b750839a3092",
   "metadata": {},
   "outputs": [],
   "source": []
  }
 ],
 "metadata": {
  "kernelspec": {
   "display_name": "Python 3 (ipykernel)",
   "language": "python",
   "name": "python3"
  },
  "language_info": {
   "codemirror_mode": {
    "name": "ipython",
    "version": 3
   },
   "file_extension": ".py",
   "mimetype": "text/x-python",
   "name": "python",
   "nbconvert_exporter": "python",
   "pygments_lexer": "ipython3",
   "version": "3.11.5"
  }
 },
 "nbformat": 4,
 "nbformat_minor": 5
}
